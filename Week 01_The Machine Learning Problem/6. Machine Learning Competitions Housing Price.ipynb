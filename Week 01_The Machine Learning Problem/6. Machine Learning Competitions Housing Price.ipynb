{
  "nbformat": 4,
  "nbformat_minor": 0,
  "metadata": {
    "kernelspec": {
      "language": "python",
      "display_name": "Python 3",
      "name": "python3"
    },
    "language_info": {
      "pygments_lexer": "ipython3",
      "nbconvert_exporter": "python",
      "version": "3.6.4",
      "file_extension": ".py",
      "codemirror_mode": {
        "name": "ipython",
        "version": 3
      },
      "name": "python",
      "mimetype": "text/x-python"
    },
    "colab": {
      "name": "6. Machine Learning Competitions : Housing Price.ipynb",
      "provenance": [],
      "include_colab_link": true
    }
  },
  "cells": [
    {
      "cell_type": "markdown",
      "metadata": {
        "id": "view-in-github",
        "colab_type": "text"
      },
      "source": [
        "<a href=\"https://colab.research.google.com/github/muchlisam17/Machine-Learning-Task-TelU/blob/main/W1/6.%20Machine%20Learning%20Competitions%20Housing%20Price.ipynb\" target=\"_parent\"><img src=\"https://colab.research.google.com/assets/colab-badge.svg\" alt=\"Open In Colab\"/></a>"
      ]
    },
    {
      "cell_type": "code",
      "metadata": {
        "colab": {
          "base_uri": "https://localhost:8080/"
        },
        "id": "kx6nt_AAOY3Z",
        "outputId": "9cd0b026-270a-4994-8a51-0ad4bc41b18b"
      },
      "source": [
        "from google.colab import drive\n",
        "drive.mount('/content/drive')"
      ],
      "execution_count": 1,
      "outputs": [
        {
          "output_type": "stream",
          "name": "stdout",
          "text": [
            "Mounted at /content/drive\n"
          ]
        }
      ]
    },
    {
      "cell_type": "markdown",
      "metadata": {
        "id": "QW1Cb0xkOGnt"
      },
      "source": [
        "# Introduction\n",
        "\n",
        "In this exercise, you will create and submit predictions for a Kaggle competition. You can then improve your model (e.g. by adding features) to apply what you've learned and move up the leaderboard.\n",
        "\n",
        "Begin by running the code cell below to set up code checking and the filepaths for the dataset."
      ]
    },
    {
      "cell_type": "code",
      "metadata": {
        "execution": {
          "iopub.status.busy": "2021-11-14T18:11:05.838757Z",
          "iopub.execute_input": "2021-11-14T18:11:05.839026Z",
          "iopub.status.idle": "2021-11-14T18:11:05.847788Z",
          "shell.execute_reply.started": "2021-11-14T18:11:05.838998Z",
          "shell.execute_reply": "2021-11-14T18:11:05.847034Z"
        },
        "trusted": true,
        "id": "4Xnrn_HhOGnu"
      },
      "source": [
        "# Set up code checking\n",
        "from learntools.core import binder\n",
        "binder.bind(globals())\n",
        "from learntools.machine_learning.ex7 import *\n",
        "\n",
        "# Set up filepaths\n",
        "import os\n",
        "if not os.path.exists(\"../input/train.csv\"):\n",
        "    os.symlink(\"../input/home-data-for-ml-course/train.csv\", \"../input/train.csv\")  \n",
        "    os.symlink(\"../input/home-data-for-ml-course/test.csv\", \"../input/test.csv\") "
      ],
      "execution_count": null,
      "outputs": []
    },
    {
      "cell_type": "markdown",
      "metadata": {
        "id": "QI10wYzcOGnw"
      },
      "source": [
        "Here's some of the code you've written so far. Start by running it again."
      ]
    },
    {
      "cell_type": "code",
      "metadata": {
        "execution": {
          "iopub.status.busy": "2021-11-14T18:16:39.863736Z",
          "iopub.execute_input": "2021-11-14T18:16:39.864408Z",
          "iopub.status.idle": "2021-11-14T18:16:40.400029Z",
          "shell.execute_reply.started": "2021-11-14T18:16:39.864369Z",
          "shell.execute_reply": "2021-11-14T18:16:40.399188Z"
        },
        "trusted": true,
        "colab": {
          "base_uri": "https://localhost:8080/"
        },
        "id": "h0dfyoPAOGnx",
        "outputId": "17cef9ef-018f-4fc6-a258-2a46d8b5498b"
      },
      "source": [
        "# Import helpful libraries\n",
        "import pandas as pd\n",
        "from sklearn.ensemble import RandomForestRegressor\n",
        "from sklearn.metrics import mean_absolute_error\n",
        "from sklearn.model_selection import train_test_split\n",
        "from sklearn.tree import DecisionTreeRegressor\n",
        "\n",
        "\n",
        "# Load the data, and separate the target\n",
        "iowa_file_path = '/content/drive/My Drive/Colab Notebooks/Tugas Matkul Machine Learning/W1/Dataset di W1/home-data-for-ml-course/train.csv'\n",
        "home_data = pd.read_csv(iowa_file_path)\n",
        "y = home_data.SalePrice\n",
        "\n",
        "# Create X (After completing the exercise, you can return to modify this line!)\n",
        "features = ['LotArea', 'YearBuilt', '1stFlrSF', '2ndFlrSF', 'FullBath', 'BedroomAbvGr', 'TotRmsAbvGrd']\n",
        "\n",
        "# Select columns corresponding to features, and preview the data\n",
        "X = home_data[features]\n",
        "X.head()\n",
        "\n",
        "# Split into validation and training data\n",
        "train_X, val_X, train_y, val_y = train_test_split(X, y, random_state=1)\n",
        "\n",
        "# Define a random forest model\n",
        "rf_model = RandomForestRegressor(random_state=1)\n",
        "rf_model.fit(train_X, train_y)\n",
        "rf_val_predictions = rf_model.predict(val_X)\n",
        "rf_val_mae = mean_absolute_error(rf_val_predictions, val_y)\n",
        "\n",
        "print(\"Validation MAE for Random Forest Model: {:,.0f}\".format(rf_val_mae))"
      ],
      "execution_count": 2,
      "outputs": [
        {
          "output_type": "stream",
          "name": "stdout",
          "text": [
            "Validation MAE for Random Forest Model: 21,857\n"
          ]
        }
      ]
    },
    {
      "cell_type": "markdown",
      "metadata": {
        "id": "2InvqKRUOGny"
      },
      "source": [
        "# Train a model for the competition\n",
        "\n",
        "The code cell above trains a Random Forest model on **`train_X`** and **`train_y`**.  \n",
        "\n",
        "Use the code cell below to build a Random Forest model and train it on all of **`X`** and **`y`**."
      ]
    },
    {
      "cell_type": "code",
      "metadata": {
        "execution": {
          "iopub.status.busy": "2021-11-14T18:16:46.129361Z",
          "iopub.execute_input": "2021-11-14T18:16:46.129657Z",
          "iopub.status.idle": "2021-11-14T18:16:46.728997Z",
          "shell.execute_reply.started": "2021-11-14T18:16:46.129626Z",
          "shell.execute_reply": "2021-11-14T18:16:46.728178Z"
        },
        "trusted": true,
        "colab": {
          "base_uri": "https://localhost:8080/"
        },
        "id": "qFhxCztQOGn0",
        "outputId": "1b2298fe-b42f-4377-a6ac-2f2d1e91fb17"
      },
      "source": [
        "# To improve accuracy, create a new Random Forest model which you will train on all training data\n",
        "rf_model_on_full_data = RandomForestRegressor()\n",
        "\n",
        "# fit rf_model_on_full_data on all data from the training data\n",
        "rf_model_on_full_data.fit(X, y)"
      ],
      "execution_count": 3,
      "outputs": [
        {
          "output_type": "execute_result",
          "data": {
            "text/plain": [
              "RandomForestRegressor()"
            ]
          },
          "metadata": {},
          "execution_count": 3
        }
      ]
    },
    {
      "cell_type": "markdown",
      "metadata": {
        "id": "uiGWwkYrOGn1"
      },
      "source": [
        "Now, read the file of \"test\" data, and apply your model to make predictions."
      ]
    },
    {
      "cell_type": "code",
      "metadata": {
        "execution": {
          "iopub.status.busy": "2021-11-14T18:15:34.571412Z",
          "iopub.execute_input": "2021-11-14T18:15:34.571686Z",
          "iopub.status.idle": "2021-11-14T18:15:34.630706Z",
          "shell.execute_reply.started": "2021-11-14T18:15:34.571658Z",
          "shell.execute_reply": "2021-11-14T18:15:34.629796Z"
        },
        "trusted": true,
        "id": "6qBsAxrfOGn2"
      },
      "source": [
        "# path to file you will use for predictions\n",
        "test_data_path = '/content/drive/My Drive/Colab Notebooks/Tugas Matkul Machine Learning/W1/Dataset di W1/home-data-for-ml-course/test.csv'\n",
        "\n",
        "# read test data file using pandas\n",
        "test_data = pd.read_csv(test_data_path)"
      ],
      "execution_count": 9,
      "outputs": []
    },
    {
      "cell_type": "code",
      "metadata": {
        "id": "vHzvpUi_PlA1"
      },
      "source": [
        "# create test_X which comes from test_data but includes only the columns you used for prediction.\n",
        "# The list of columns is stored in a variable called features\n",
        "test_X = test_data[features]\n",
        "\n",
        "# make predictions which we will submit. \n",
        "test_preds = rf_model_on_full_data.predict(test_X)"
      ],
      "execution_count": 8,
      "outputs": []
    },
    {
      "cell_type": "markdown",
      "metadata": {
        "id": "skgsl5WUOGn4"
      },
      "source": [
        "Before submitting, run a check to make sure your `test_preds` have the right format."
      ]
    },
    {
      "cell_type": "code",
      "metadata": {
        "execution": {
          "iopub.status.busy": "2021-11-14T18:17:08.322892Z",
          "iopub.execute_input": "2021-11-14T18:17:08.323176Z",
          "iopub.status.idle": "2021-11-14T18:17:08.333113Z",
          "shell.execute_reply.started": "2021-11-14T18:17:08.323131Z",
          "shell.execute_reply": "2021-11-14T18:17:08.332531Z"
        },
        "trusted": true,
        "id": "rTGJZDLdOGn5"
      },
      "source": [
        "# Check your answer (To get credit for completing the exercise, you must get a \"Correct\" result!)\n",
        "# step_1.check()\n",
        "# step_1.solution()"
      ],
      "execution_count": null,
      "outputs": []
    },
    {
      "cell_type": "markdown",
      "metadata": {
        "id": "RpJkw36HOGn5"
      },
      "source": [
        "# Generate a submission\n",
        "\n",
        "Run the code cell below to generate a CSV file with your predictions that you can use to submit to the competition."
      ]
    },
    {
      "cell_type": "code",
      "metadata": {
        "execution": {
          "iopub.status.busy": "2021-11-14T18:18:19.694653Z",
          "iopub.execute_input": "2021-11-14T18:18:19.694917Z",
          "iopub.status.idle": "2021-11-14T18:18:19.705769Z",
          "shell.execute_reply.started": "2021-11-14T18:18:19.694891Z",
          "shell.execute_reply": "2021-11-14T18:18:19.705013Z"
        },
        "trusted": true,
        "id": "jV67hJ9KOGn6"
      },
      "source": [
        "# Run the code to save predictions in the format used for competition scoring\n",
        "\n",
        "output = pd.DataFrame({'Id': test_data.Id,'SalePrice': test_preds})\n",
        "output.to_csv('submission.csv', index=False)"
      ],
      "execution_count": 7,
      "outputs": []
    }
  ]
}