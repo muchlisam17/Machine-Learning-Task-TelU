{
  "nbformat": 4,
  "nbformat_minor": 0,
  "metadata": {
    "kernelspec": {
      "language": "python",
      "display_name": "Python 3",
      "name": "python3"
    },
    "language_info": {
      "pygments_lexer": "ipython3",
      "nbconvert_exporter": "python",
      "version": "3.6.4",
      "file_extension": ".py",
      "codemirror_mode": {
        "name": "ipython",
        "version": 3
      },
      "name": "python",
      "mimetype": "text/x-python"
    },
    "colab": {
      "name": "4. Learn Underfitting and Overfitting.ipynb",
      "provenance": [],
      "include_colab_link": true
    }
  },
  "cells": [
    {
      "cell_type": "markdown",
      "metadata": {
        "id": "view-in-github",
        "colab_type": "text"
      },
      "source": [
        "<a href=\"https://colab.research.google.com/github/muchlisam17/Machine-Learning-Task-TelU/blob/main/W1/4.%20Learn%20Underfitting%20and%20Overfitting.ipynb\" target=\"_parent\"><img src=\"https://colab.research.google.com/assets/colab-badge.svg\" alt=\"Open In Colab\"/></a>"
      ]
    },
    {
      "cell_type": "code",
      "metadata": {
        "colab": {
          "base_uri": "https://localhost:8080/"
        },
        "id": "wFlZf2MiK59_",
        "outputId": "e8ab88db-c4f9-4d7a-cad1-dbe13414fdde"
      },
      "source": [
        "from google.colab import drive\n",
        "drive.mount('/content/drive')"
      ],
      "execution_count": 1,
      "outputs": [
        {
          "output_type": "stream",
          "name": "stdout",
          "text": [
            "Mounted at /content/drive\n"
          ]
        }
      ]
    },
    {
      "cell_type": "markdown",
      "metadata": {
        "id": "UVtkiE8HKTAG"
      },
      "source": [
        "## Recap\n",
        "You've built your first model, and now it's time to optimize the size of the tree to make better predictions. Run this cell to set up your coding environment where the previous step left off."
      ]
    },
    {
      "cell_type": "code",
      "metadata": {
        "execution": {
          "iopub.status.busy": "2021-11-14T17:43:33.590652Z",
          "iopub.execute_input": "2021-11-14T17:43:33.591047Z",
          "iopub.status.idle": "2021-11-14T17:43:33.645598Z",
          "shell.execute_reply.started": "2021-11-14T17:43:33.590973Z",
          "shell.execute_reply": "2021-11-14T17:43:33.644703Z"
        },
        "trusted": true,
        "colab": {
          "base_uri": "https://localhost:8080/"
        },
        "id": "s_KwZmHEKTAH",
        "outputId": "e91e735a-e8a8-41f2-f371-64019515b0ea"
      },
      "source": [
        "# Code you have previously used to load data\n",
        "import pandas as pd\n",
        "from sklearn.metrics import mean_absolute_error\n",
        "from sklearn.model_selection import train_test_split\n",
        "from sklearn.tree import DecisionTreeRegressor\n",
        "\n",
        "\n",
        "# Path of the file to read\n",
        "iowa_file_path = '/content/drive/My Drive/Colab Notebooks/Tugas Matkul Machine Learning/W1/Dataset di W1/home-data-for-ml-course/train.csv'\n",
        "\n",
        "home_data = pd.read_csv(iowa_file_path)\n",
        "# Create target object and call it y\n",
        "y = home_data.SalePrice\n",
        "# Create X\n",
        "features = ['LotArea', 'YearBuilt', '1stFlrSF', '2ndFlrSF', 'FullBath', 'BedroomAbvGr', 'TotRmsAbvGrd']\n",
        "X = home_data[features]\n",
        "\n",
        "# Split into validation and training data\n",
        "train_X, val_X, train_y, val_y = train_test_split(X, y, random_state=1)\n",
        "\n",
        "# Specify Model\n",
        "iowa_model = DecisionTreeRegressor(random_state=1)\n",
        "# Fit Model\n",
        "iowa_model.fit(train_X, train_y)\n",
        "\n",
        "# Make validation predictions and calculate mean absolute error\n",
        "val_predictions = iowa_model.predict(val_X)\n",
        "val_mae = mean_absolute_error(val_predictions, val_y)\n",
        "print(\"Validation MAE: {:,.0f}\".format(val_mae))"
      ],
      "execution_count": 3,
      "outputs": [
        {
          "output_type": "stream",
          "name": "stdout",
          "text": [
            "Validation MAE: 29,653\n"
          ]
        }
      ]
    },
    {
      "cell_type": "markdown",
      "metadata": {
        "id": "i6cfXskLKTAJ"
      },
      "source": [
        "# Exercises\n",
        "You could write the function `get_mae` yourself. For now, we'll supply it. This is the same function you read about in the previous lesson. Just run the cell below."
      ]
    },
    {
      "cell_type": "code",
      "metadata": {
        "execution": {
          "iopub.status.busy": "2021-11-14T17:43:33.647367Z",
          "iopub.execute_input": "2021-11-14T17:43:33.64825Z",
          "iopub.status.idle": "2021-11-14T17:43:33.653494Z",
          "shell.execute_reply.started": "2021-11-14T17:43:33.648204Z",
          "shell.execute_reply": "2021-11-14T17:43:33.652751Z"
        },
        "trusted": true,
        "id": "qNK8vzHHKTAJ"
      },
      "source": [
        "def get_mae(max_leaf_nodes, train_X, val_X, train_y, val_y):\n",
        "    model = DecisionTreeRegressor(max_leaf_nodes=max_leaf_nodes, random_state=0)\n",
        "    model.fit(train_X, train_y)\n",
        "    preds_val = model.predict(val_X)\n",
        "    mae = mean_absolute_error(val_y, preds_val)\n",
        "    return(mae)"
      ],
      "execution_count": 4,
      "outputs": []
    },
    {
      "cell_type": "markdown",
      "metadata": {
        "id": "on2xTpWNKTAK"
      },
      "source": [
        "## Step 1: Compare Different Tree Sizes\n",
        "Write a loop that tries the following values for *max_leaf_nodes* from a set of possible values.\n",
        "\n",
        "Call the *get_mae* function on each value of max_leaf_nodes. Store the output in some way that allows you to select the value of `max_leaf_nodes` that gives the most accurate model on your data."
      ]
    },
    {
      "cell_type": "code",
      "metadata": {
        "execution": {
          "iopub.status.busy": "2021-11-14T17:52:27.438619Z",
          "iopub.execute_input": "2021-11-14T17:52:27.439141Z",
          "iopub.status.idle": "2021-11-14T17:52:27.487826Z",
          "shell.execute_reply.started": "2021-11-14T17:52:27.439098Z",
          "shell.execute_reply": "2021-11-14T17:52:27.487177Z"
        },
        "trusted": true,
        "id": "qZegT7PJKTAK"
      },
      "source": [
        "candidate_max_leaf_nodes = [5, 25, 50, 100, 250, 500]\n",
        "# Write loop to find the ideal tree size from candidate_max_leaf_nodes\n",
        "scores = {leaf_size: get_mae(leaf_size, train_X, val_X, train_y, val_y) for leaf_size in candidate_max_leaf_nodes}\n",
        "\n",
        "# Store the best value of max_leaf_nodes (it will be either 5, 25, 50, 100, 250 or 500)\n",
        "best_tree_size = min(scores, key=scores.get)\n",
        "\n",
        "# Check your answer\n",
        "# step_1.check()"
      ],
      "execution_count": 5,
      "outputs": []
    },
    {
      "cell_type": "code",
      "metadata": {
        "execution": {
          "iopub.status.busy": "2021-11-14T17:50:58.5302Z",
          "iopub.execute_input": "2021-11-14T17:50:58.530609Z",
          "iopub.status.idle": "2021-11-14T17:50:58.5412Z",
          "shell.execute_reply.started": "2021-11-14T17:50:58.530577Z",
          "shell.execute_reply": "2021-11-14T17:50:58.540299Z"
        },
        "trusted": true,
        "id": "gbvQYzTWKTAM"
      },
      "source": [
        "# The lines below will show you a hint or the solution.\n",
        "# step_1.hint() \n",
        "# step_1.solution()"
      ],
      "execution_count": null,
      "outputs": []
    },
    {
      "cell_type": "markdown",
      "metadata": {
        "id": "RBgxn7tPKTAM"
      },
      "source": [
        "## Step 2: Fit Model Using All Data\n",
        "You know the best tree size. If you were going to deploy this model in practice, you would make it even more accurate by using all of the data and keeping that tree size.  That is, you don't need to hold out the validation data now that you've made all your modeling decisions."
      ]
    },
    {
      "cell_type": "code",
      "metadata": {
        "execution": {
          "iopub.status.busy": "2021-11-14T17:55:57.491311Z",
          "iopub.execute_input": "2021-11-14T17:55:57.49172Z",
          "iopub.status.idle": "2021-11-14T17:55:57.508862Z",
          "shell.execute_reply.started": "2021-11-14T17:55:57.491688Z",
          "shell.execute_reply": "2021-11-14T17:55:57.508033Z"
        },
        "trusted": true,
        "colab": {
          "base_uri": "https://localhost:8080/"
        },
        "id": "-hBHnHXlKTAN",
        "outputId": "bfa31b21-153f-40ab-8c35-48760ba3148c"
      },
      "source": [
        "# Fill in argument to make optimal size and uncomment\n",
        "final_model = DecisionTreeRegressor(max_leaf_nodes=best_tree_size, random_state=1)\n",
        "\n",
        "# fit the final model and uncomment the next two lines\n",
        "final_model.fit(X, y)\n",
        "\n",
        "# Check your answer\n",
        "# step_2.check()"
      ],
      "execution_count": 9,
      "outputs": [
        {
          "output_type": "execute_result",
          "data": {
            "text/plain": [
              "DecisionTreeRegressor(max_leaf_nodes=100, random_state=1)"
            ]
          },
          "metadata": {},
          "execution_count": 9
        }
      ]
    },
    {
      "cell_type": "code",
      "metadata": {
        "execution": {
          "iopub.status.busy": "2021-11-14T17:55:33.481952Z",
          "iopub.execute_input": "2021-11-14T17:55:33.482626Z",
          "iopub.status.idle": "2021-11-14T17:55:33.493478Z",
          "shell.execute_reply.started": "2021-11-14T17:55:33.482587Z",
          "shell.execute_reply": "2021-11-14T17:55:33.492591Z"
        },
        "trusted": true,
        "id": "oax0BF4cKTAO"
      },
      "source": [
        "# step_2.hint()\n",
        "# step_2.solution()"
      ],
      "execution_count": null,
      "outputs": []
    }
  ]
}